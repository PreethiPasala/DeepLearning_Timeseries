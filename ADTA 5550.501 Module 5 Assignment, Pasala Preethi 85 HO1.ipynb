{
  "cells": [
    {
      "cell_type": "markdown",
      "metadata": {
        "id": "rtX4A8pOSRux"
      },
      "source": [
        "# Deep learning for timeseries"
      ]
    },
    {
      "cell_type": "markdown",
      "metadata": {
        "id": "0YGh6qS1SRux"
      },
      "source": [
        "## Different kinds of timeseries tasks"
      ]
    },
    {
      "cell_type": "markdown",
      "metadata": {
        "id": "_CEaTqYnSRux"
      },
      "source": [
        "## A temperature-forecasting example"
      ]
    },
    {
      "cell_type": "code",
      "execution_count": 2,
      "metadata": {
        "colab": {
          "base_uri": "https://localhost:8080/"
        },
        "id": "VCJIgp1eSRux",
        "outputId": "d546ecad-d5b6-4367-c445-7ada71623fcf"
      },
      "outputs": [
        {
          "name": "stdout",
          "output_type": "stream",
          "text": [
            "--2023-11-03 15:29:22--  https://s3.amazonaws.com/keras-datasets/jena_climate_2009_2016.csv.zip\n",
            "Resolving s3.amazonaws.com (s3.amazonaws.com)... 52.217.139.24, 52.216.204.109, 16.182.41.40, ...\n",
            "Connecting to s3.amazonaws.com (s3.amazonaws.com)|52.217.139.24|:443... connected.\n",
            "HTTP request sent, awaiting response... 200 OK\n",
            "Length: 13565642 (13M) [application/zip]\n",
            "Saving to: ‘jena_climate_2009_2016.csv.zip’\n",
            "\n",
            "jena_climate_2009_2 100%[===================>]  12.94M  57.6MB/s    in 0.2s    \n",
            "\n",
            "2023-11-03 15:29:23 (57.6 MB/s) - ‘jena_climate_2009_2016.csv.zip’ saved [13565642/13565642]\n",
            "\n",
            "Archive:  jena_climate_2009_2016.csv.zip\n",
            "  inflating: jena_climate_2009_2016.csv  \n",
            "  inflating: __MACOSX/._jena_climate_2009_2016.csv  \n"
          ]
        }
      ],
      "source": [
        "#pp85\n",
        "!wget https://s3.amazonaws.com/keras-datasets/jena_climate_2009_2016.csv.zip\n",
        "!unzip jena_climate_2009_2016.csv.zip\n",
        "#The purpose of these commands is to download a dataset file in ZIP format from a specific URL and then unzip it so that you can access and work with the contents of the ZIP archive. This is a common workflow when dealing with data analysis or machine learning tasks, as it allows you to fetch and prepare the necessary data for your project."
      ]
    },
    {
      "cell_type": "markdown",
      "metadata": {
        "id": "LMMgttPISRuy"
      },
      "source": [
        "**Inspecting the data of the Jena weather dataset**"
      ]
    },
    {
      "cell_type": "code",
      "execution_count": 3,
      "metadata": {
        "colab": {
          "base_uri": "https://localhost:8080/"
        },
        "id": "v4JNjFkFSRuy",
        "outputId": "1b6c95e1-5279-482e-eeee-f52ad05f9de3"
      },
      "outputs": [
        {
          "name": "stdout",
          "output_type": "stream",
          "text": [
            "['\"Date Time\"', '\"p (mbar)\"', '\"T (degC)\"', '\"Tpot (K)\"', '\"Tdew (degC)\"', '\"rh (%)\"', '\"VPmax (mbar)\"', '\"VPact (mbar)\"', '\"VPdef (mbar)\"', '\"sh (g/kg)\"', '\"H2OC (mmol/mol)\"', '\"rho (g/m**3)\"', '\"wv (m/s)\"', '\"max. wv (m/s)\"', '\"wd (deg)\"']\n",
            "420451\n"
          ]
        }
      ],
      "source": [
        "#pp85\n",
        "import os\n",
        "fname = os.path.join(\"jena_climate_2009_2016.csv\")\n",
        "\n",
        "with open(fname) as f:\n",
        "    data = f.read()\n",
        "\n",
        "lines = data.split(\"\\n\")\n",
        "header = lines[0].split(\",\")\n",
        "lines = lines[1:]\n",
        "print(header)\n",
        "print(len(lines))\n",
        "#This Python code opens a CSV file named \"jena_climate_2009_2016.csv,\" reads its content, and processes it. It first extracts the column names (header) and then separates the data into individual rows. It then prints the column names and the number of data rows. This code is useful for understanding the structure of the CSV dataset and is commonly used as a preliminary step before conducting data analysis or other data-related tasks."
      ]
    },
    {
      "cell_type": "markdown",
      "metadata": {
        "id": "n8KewRcRSRuy"
      },
      "source": [
        "**Parsing the data**"
      ]
    },
    {
      "cell_type": "code",
      "execution_count": 4,
      "metadata": {
        "id": "j4ZFOeNuSRuy"
      },
      "outputs": [],
      "source": [
        "#pp85\n",
        "import numpy as np\n",
        "temperature = np.zeros((len(lines),))\n",
        "raw_data = np.zeros((len(lines), len(header) - 1))\n",
        "for i, line in enumerate(lines):\n",
        "    values = [float(x) for x in line.split(\",\")[1:]]\n",
        "    temperature[i] = values[1]\n",
        "    raw_data[i, :] = values[:]\n",
        "#This Python code uses the NumPy library to process data from the previously loaded CSV file. It creates two arrays: temperature and raw_data. The temperature array is filled with the second value from each line in the CSV file, assuming it represents temperature data. The raw_data array is populated with all the values from each line, excluding the first value (which is typically a timestamp) since it's stored in the values list as floating-point numbers. This code effectively extracts and organizes temperature data into the temperature array and stores all other data in the raw_data array for further analysis or manipulation. It uses a loop to iterate through the lines in the CSV file, converting the values to floating-point numbers and arranging them into the arrays accordingly."
      ]
    },
    {
      "cell_type": "markdown",
      "metadata": {
        "id": "kQArCMwESRuz"
      },
      "source": [
        "**Plotting the temperature timeseries**"
      ]
    },
    {
      "cell_type": "code",
      "execution_count": 5,
      "metadata": {
        "colab": {
          "base_uri": "https://localhost:8080/",
          "height": 451
        },
        "id": "HNvGZGCfSRuz",
        "outputId": "3d4202c0-aef7-4262-a9d3-d8f0ef30ec14"
      },
      "outputs": [
        {
          "data": {
            "text/plain": [
              "[<matplotlib.lines.Line2D at 0x7d0174fc2500>]"
            ]
          },
          "execution_count": 5,
          "metadata": {},
          "output_type": "execute_result"
        },
        {
          "data": {
            "image/png": "[encoded data removed]",
            "text/plain": [
              "<Figure size 640x480 with 1 Axes>"
            ]
          },
          "metadata": {},
          "output_type": "display_data"
        }
      ],
      "source": [
        "#pp85\n",
        "from matplotlib import pyplot as plt\n",
        "plt.plot(range(len(temperature)), temperature)\n",
        "#This Python code utilizes the Matplotlib library to create a line plot of temperature data. It uses the plt.plot() function to generate a line chart that visualizes temperature values over time. The x-axis of the plot represents the index of the temperature data points, while the y-axis displays the temperature values themselves. By using range(len(temperature)), it ensures that the data points are evenly spaced on the x-axis. This code is an essential step in data visualization, allowing you to gain insights into temperature trends or patterns by visualizing the data in a clear and informative way."
      ]
    },
    {
      "cell_type": "markdown",
      "metadata": {
        "id": "Xotw2y2VSRuz"
      },
      "source": [
        "**Plotting the first 10 days of the temperature timeseries**"
      ]
    },
    {
      "cell_type": "code",
      "execution_count": 6,
      "metadata": {
        "colab": {
          "base_uri": "https://localhost:8080/",
          "height": 447
        },
        "id": "P3VFIQpISRuz",
        "outputId": "dd96fff3-dc59-47bd-e26d-a1ff29cc4f21"
      },
      "outputs": [
        {
          "data": {
            "text/plain": [
              "[<matplotlib.lines.Line2D at 0x7d0170cff340>]"
            ]
          },
          "execution_count": 6,
          "metadata": {},
          "output_type": "execute_result"
        },
        {
          "data": {
            "image/png": "[encoded data removed]",
            "text/plain": [
              "<Figure size 640x480 with 1 Axes>"
            ]
          },
          "metadata": {},
          "output_type": "display_data"
        }
      ],
      "source": [
        "#pp85\n",
        "plt.plot(range(1440), temperature[:1440])\n",
        "#his Python code, using the Matplotlib library, creates a line plot of temperature data for the first 1440 data points. It uses the plt.plot() function to generate a line chart, where the x-axis represents a range of values from 0 to 1439, and the y-axis displays the corresponding temperature values from the dataset. By limiting the range to 1440 data points, it focuses on visualizing a specific subset of the data, typically representing a shorter time interval. This code is useful for examining temperature variations within a specific period, such as a day or a few days, and provides a more detailed view of temperature changes during that timeframe."
      ]
    },
    {
      "cell_type": "markdown",
      "metadata": {
        "id": "ea4N6CbdSRuz"
      },
      "source": [
        "**Computing the number of samples we'll use for each data split**"
      ]
    },
    {
      "cell_type": "code",
      "execution_count": 7,
      "metadata": {
        "colab": {
          "base_uri": "https://localhost:8080/"
        },
        "id": "fTmCFngjSRuz",
        "outputId": "953c65fc-4cb7-47aa-e08e-fa3c08fbba80"
      },
      "outputs": [
        {
          "name": "stdout",
          "output_type": "stream",
          "text": [
            "num_train_samples: 210225\n",
            "num_val_samples: 105112\n",
            "num_test_samples: 105114\n"
          ]
        }
      ],
      "source": [
        "#pp85\n",
        "num_train_samples = int(0.5 * len(raw_data))\n",
        "num_val_samples = int(0.25 * len(raw_data))\n",
        "num_test_samples = len(raw_data) - num_train_samples - num_val_samples\n",
        "print(\"num_train_samples:\", num_train_samples)\n",
        "print(\"num_val_samples:\", num_val_samples)\n",
        "print(\"num_test_samples:\", num_test_samples)\n",
        "#This Python code calculates and prints the number of samples for training, validation, and testing in a dataset. It does this by determining percentages of the total data. It calculates that 50% of the data will be used for training (num_train_samples), 25% for validation (num_val_samples), and the remaining portion for testing (num_test_samples). The len(raw_data) provides the total number of data points in the dataset. The code is useful for partitioning a dataset into different subsets to train, validate, and test machine learning models, ensuring that each subset has the appropriate number of samples for effective model development and evaluation."
      ]
    },
    {
      "cell_type": "markdown",
      "metadata": {
        "id": "ax5NZLqsSRuz"
      },
      "source": [
        "### Preparing the data"
      ]
    },
    {
      "cell_type": "markdown",
      "metadata": {
        "id": "huQcTEm1SRuz"
      },
      "source": [
        "**Normalizing the data**"
      ]
    },
    {
      "cell_type": "code",
      "execution_count": 8,
      "metadata": {
        "id": "FP69OvP3SRuz"
      },
      "outputs": [],
      "source": [
        "#pp85\n",
        "mean = raw_data[:num_train_samples].mean(axis=0)\n",
        "raw_data -= mean\n",
        "std = raw_data[:num_train_samples].std(axis=0)\n",
        "raw_data /= std\n",
        "#This Python code is used to standardize the data in the raw_data array. It calculates the mean (average) and standard deviation of the values in the training portion of the dataset (num_train_samples) along each column (axis=0). Then, it subtracts the mean from each data point and divides the result by the standard deviation. This process normalizes the data, making it have a mean of zero and a standard deviation of one, which is a common technique in data preprocessing for machine learning. Standardization ensures that different features have the same scale, making it easier for machine learning algorithms to work with the data and often improving their performance."
      ]
    },
    {
      "cell_type": "code",
      "execution_count": 9,
      "metadata": {
        "colab": {
          "base_uri": "https://localhost:8080/"
        },
        "id": "1inkNMzJSRuz",
        "outputId": "5931fe07-d27a-4177-eccd-3a70332716b5"
      },
      "outputs": [
        {
          "name": "stdout",
          "output_type": "stream",
          "text": [
            "[0, 1, 2] 3\n",
            "[1, 2, 3] 4\n",
            "[2, 3, 4] 5\n",
            "[3, 4, 5] 6\n",
            "[4, 5, 6] 7\n"
          ]
        }
      ],
      "source": [
        "#pp85\n",
        "import numpy as np\n",
        "from tensorflow import keras\n",
        "int_sequence = np.arange(10)\n",
        "dummy_dataset = keras.utils.timeseries_dataset_from_array(\n",
        "    data=int_sequence[:-3],\n",
        "    targets=int_sequence[3:],\n",
        "    sequence_length=3,\n",
        "    batch_size=2,\n",
        ")\n",
        "\n",
        "for inputs, targets in dummy_dataset:\n",
        "    for i in range(inputs.shape[0]):\n",
        "        print([int(x) for x in inputs[i]], int(targets[i]))\n",
        "#This Python code uses the TensorFlow library to create a timeseries dataset for a dummy sequence of integer values. It starts with a sequence of integers from 0 to 9 (int_sequence). It then constructs a timeseries dataset using keras.utils.timeseries_dataset_from_array. This function slices the input data (int_sequence[:-3]) to create sequences of length 3 and corresponding target sequences (int_sequence[3:]). The sequence_length parameter defines the length of each sequence, and batch_size sets the number of sequences in each batch.\n",
        "\n",
        "#The code then iterates through the dummy_dataset, printing each batch of inputs and their corresponding targets. It essentially organizes the original sequence into overlapping sequences of length 3 and their corresponding next values. This code provides a simple example of how to create timeseries datasets for training machine learning models, especially recurrent neural networks, using TensorFlow and Keras."
      ]
    },
    {
      "cell_type": "markdown",
      "metadata": {
        "id": "y8FzpGfaSRu0"
      },
      "source": [
        "**Instantiating datasets for training, validation, and testing**"
      ]
    },
    {
      "cell_type": "code",
      "execution_count": 10,
      "metadata": {
        "id": "2QTWp9AYSRu0"
      },
      "outputs": [],
      "source": [
        "#pp85\n",
        "sampling_rate = 6\n",
        "sequence_length = 120\n",
        "delay = sampling_rate * (sequence_length + 24 - 1)\n",
        "batch_size = 256\n",
        "\n",
        "train_dataset = keras.utils.timeseries_dataset_from_array(\n",
        "    raw_data[:-delay],\n",
        "    targets=temperature[delay:],\n",
        "    sampling_rate=sampling_rate,\n",
        "    sequence_length=sequence_length,\n",
        "    shuffle=True,\n",
        "    batch_size=batch_size,\n",
        "    start_index=0,\n",
        "    end_index=num_train_samples)\n",
        "\n",
        "val_dataset = keras.utils.timeseries_dataset_from_array(\n",
        "    raw_data[:-delay],\n",
        "    targets=temperature[delay:],\n",
        "    sampling_rate=sampling_rate,\n",
        "    sequence_length=sequence_length,\n",
        "    shuffle=True,\n",
        "    batch_size=batch_size,\n",
        "    start_index=num_train_samples,\n",
        "    end_index=num_train_samples + num_val_samples)\n",
        "\n",
        "test_dataset = keras.utils.timeseries_dataset_from_array(\n",
        "    raw_data[:-delay],\n",
        "    targets=temperature[delay:],\n",
        "    sampling_rate=sampling_rate,\n",
        "    sequence_length=sequence_length,\n",
        "    shuffle=True,\n",
        "    batch_size=batch_size,\n",
        "    start_index=num_train_samples + num_val_samples)\n",
        "#This Python code uses TensorFlow and Keras to create three timeseries datasets for training, validation, and testing in a machine learning project. It's designed for a timeseries forecasting task. The datasets are constructed from the raw_data array and the temperature array, which represent the input data and target values.\n",
        "\n",
        "#The code sets specific parameters for each dataset, including sampling_rate, sequence_length, delay, and batch_size. The delay parameter is used to ensure that the input and target sequences align correctly. The datasets are split based on the number of training, validation, and testing samples previously determined.\n",
        "\n",
        "#These timeseries datasets are essential for training and evaluating machine learning models, especially recurrent neural networks (RNNs), for timeseries forecasting tasks. The code ensures that the data is appropriately partitioned and structured for use in training, validation, and testing, with proper sequencing and batch sizes for efficient model training and evaluation."
      ]
    },
    {
      "cell_type": "markdown",
      "metadata": {
        "id": "x2f-PPDbSRu0"
      },
      "source": [
        "**Inspecting the output of one of our datasets**"
      ]
    },
    {
      "cell_type": "code",
      "execution_count": 11,
      "metadata": {
        "colab": {
          "base_uri": "https://localhost:8080/"
        },
        "id": "jlIq65zfSRu0",
        "outputId": "7d562327-c0ae-462a-b080-20eed837e32c"
      },
      "outputs": [
        {
          "name": "stdout",
          "output_type": "stream",
          "text": [
            "samples shape: (256, 120, 14)\n",
            "targets shape: (256,)\n"
          ]
        }
      ],
      "source": [
        "#pp85\n",
        "for samples, targets in train_dataset:\n",
        "    print(\"samples shape:\", samples.shape)\n",
        "    print(\"targets shape:\", targets.shape)\n",
        "    break\n",
        "#This Python code is used to examine the shape of the samples and targets within the training dataset. It iterates through the train_dataset, printing the shape (dimensions) of the samples and targets for the first batch. The samples shape represents the dimensions of the input data for that batch, while the targets shape represents the dimensions of the corresponding target values. This code helps verify the structure of the data within the training dataset and provides insights into the batch size and sequence length, which are crucial for understanding how the data is fed into machine learning models during training. The break statement is used to exit the loop after processing the first batch for this demonstration."
      ]
    },
    {
      "cell_type": "markdown",
      "metadata": {
        "id": "ce2F0IxQSRu0"
      },
      "source": [
        "### A common-sense, non-machine-learning baseline"
      ]
    },
    {
      "cell_type": "markdown",
      "metadata": {
        "id": "GxuSdS9QSRu0"
      },
      "source": [
        "**Computing the common-sense baseline MAE**"
      ]
    },
    {
      "cell_type": "code",
      "execution_count": 12,
      "metadata": {
        "colab": {
          "base_uri": "https://localhost:8080/"
        },
        "id": "iW0m0PhESRu0",
        "outputId": "c173b57c-94e2-47e4-8405-3f5fe2845096"
      },
      "outputs": [
        {
          "name": "stdout",
          "output_type": "stream",
          "text": [
            "Validation MAE: 2.44\n",
            "Test MAE: 2.62\n"
          ]
        }
      ],
      "source": [
        "#pp85\n",
        "def evaluate_naive_method(dataset):\n",
        "    total_abs_err = 0.\n",
        "    samples_seen = 0\n",
        "    for samples, targets in dataset:\n",
        "        preds = samples[:, -1, 1] * std[1] + mean[1]\n",
        "        total_abs_err += np.sum(np.abs(preds - targets))\n",
        "        samples_seen += samples.shape[0]\n",
        "    return total_abs_err / samples_seen\n",
        "\n",
        "print(f\"Validation MAE: {evaluate_naive_method(val_dataset):.2f}\")\n",
        "print(f\"Test MAE: {evaluate_naive_method(test_dataset):.2f}\")\n",
        "#This Python code defines a function called evaluate_naive_method(dataset) and uses it to calculate and print the Mean Absolute Error (MAE) for both the validation and test datasets. The function takes a dataset as input and iterates through it. For each batch of samples and targets in the dataset, it calculates predictions (preds) by taking the last value of the input sequence, applying a scaling transformation, and then computes the absolute error between the predictions and the actual targets. The total absolute error and the number of samples seen are accumulated during the iterations, and the function returns the MAE by dividing the total absolute error by the total number of samples seen. The code then calls this function for the validation and test datasets and prints the MAE values. This helps assess the performance of a naive forecasting method on the datasets."
      ]
    },
    {
      "cell_type": "markdown",
      "metadata": {
        "id": "ESn2o6cQSRu0"
      },
      "source": [
        "### Let's try a basic machine-learning model"
      ]
    },
    {
      "cell_type": "markdown",
      "metadata": {
        "id": "uYbkzM0mSRu0"
      },
      "source": [
        "**Training and evaluating a densely connected model**"
      ]
    },
    {
      "cell_type": "code",
      "execution_count": 13,
      "metadata": {
        "colab": {
          "base_uri": "https://localhost:8080/"
        },
        "id": "bw8IaIFkSRu0",
        "outputId": "6b8871e1-6eb5-4671-c1cf-76c4aa53a41b"
      },
      "outputs": [
        {
          "name": "stdout",
          "output_type": "stream",
          "text": [
            "Epoch 1/10\n",
            "819/819 [==============================] - 46s 55ms/step - loss: 12.4345 - mae: 2.7352 - val_loss: 12.7485 - val_mae: 2.8324\n",
            "Epoch 2/10\n",
            "819/819 [==============================] - 44s 53ms/step - loss: 8.9124 - mae: 2.3480 - val_loss: 17.1667 - val_mae: 3.3315\n",
            "Epoch 3/10\n",
            "819/819 [==============================] - 50s 61ms/step - loss: 8.1908 - mae: 2.2487 - val_loss: 10.4155 - val_mae: 2.5430\n",
            "Epoch 4/10\n",
            "819/819 [==============================] - 44s 54ms/step - loss: 7.7651 - mae: 2.1928 - val_loss: 10.7990 - val_mae: 2.5958\n",
            "Epoch 5/10\n",
            "819/819 [==============================] - 52s 63ms/step - loss: 7.4386 - mae: 2.1476 - val_loss: 10.3355 - val_mae: 2.5330\n",
            "Epoch 6/10\n",
            "819/819 [==============================] - 50s 61ms/step - loss: 7.2375 - mae: 2.1185 - val_loss: 10.5712 - val_mae: 2.5640\n",
            "Epoch 7/10\n",
            "819/819 [==============================] - 51s 62ms/step - loss: 7.0415 - mae: 2.0881 - val_loss: 10.9156 - val_mae: 2.6059\n",
            "Epoch 8/10\n",
            "819/819 [==============================] - 51s 63ms/step - loss: 6.8814 - mae: 2.0641 - val_loss: 10.5412 - val_mae: 2.5605\n",
            "Epoch 9/10\n",
            "819/819 [==============================] - 44s 53ms/step - loss: 6.7605 - mae: 2.0466 - val_loss: 11.7256 - val_mae: 2.7047\n",
            "Epoch 10/10\n",
            "819/819 [==============================] - 43s 52ms/step - loss: 6.6247 - mae: 2.0272 - val_loss: 10.8123 - val_mae: 2.5945\n",
            "405/405 [==============================] - 15s 36ms/step - loss: 11.4777 - mae: 2.6710\n",
            "Test MAE: 2.67\n"
          ]
        }
      ],
      "source": [
        "#pp85\n",
        "from tensorflow import keras\n",
        "from tensorflow.keras import layers\n",
        "\n",
        "inputs = keras.Input(shape=(sequence_length, raw_data.shape[-1]))\n",
        "x = layers.Flatten()(inputs)\n",
        "x = layers.Dense(16, activation=\"relu\")(x)\n",
        "outputs = layers.Dense(1)(x)\n",
        "model = keras.Model(inputs, outputs)\n",
        "\n",
        "callbacks = [\n",
        "    keras.callbacks.ModelCheckpoint(\"jena_dense.tf\",\n",
        "                                    save_best_only=True)\n",
        "]\n",
        "model.compile(optimizer=\"rmsprop\", loss=\"mse\", metrics=[\"mae\"])\n",
        "history = model.fit(train_dataset,\n",
        "                    epochs=10,\n",
        "                    validation_data=val_dataset,\n",
        "                    callbacks=callbacks)\n",
        "\n",
        "model = keras.models.load_model(\"jena_dense.tf\")\n",
        "print(f\"Test MAE: {model.evaluate(test_dataset)[1]:.2f}\")\n",
        "#This Python code defines and trains a simple feedforward neural network model for a timeseries forecasting task using TensorFlow and Keras. The model consists of an input layer with a shape that matches the sequence length and the number of features in the raw_data. The data is then flattened, followed by a dense layer with 16 units and a ReLU activation function. The output layer has a single unit, which is used for predicting the target value.\n",
        "\n",
        "#The code sets up callbacks to save the best model during training. It compiles the model using the \"rmsprop\" optimizer and mean squared error (MSE) loss function, as well as mean absolute error (MAE) as a metric for evaluation.\n",
        "\n",
        "#The model is trained using the training dataset with 10 epochs and validated using the validation dataset. It saves the best-performing model during training.\n",
        "\n",
        "#After training, the code loads the best model, evaluates it on the test dataset, and prints the test Mean Absolute Error (MAE) as an assessment of the model's performance. This code showcases a basic neural network setup for timeseries forecasting and the use of callbacks for model checkpointing."
      ]
    },
    {
      "cell_type": "markdown",
      "metadata": {
        "id": "aDKi-DmdSRu0"
      },
      "source": [
        "**Plotting results**"
      ]
    },
    {
      "cell_type": "code",
      "execution_count": 14,
      "metadata": {
        "colab": {
          "base_uri": "https://localhost:8080/",
          "height": 452
        },
        "id": "GWR0A1a4SRu0",
        "outputId": "68b96be1-497c-4201-fd8c-7e4c253f5b0b"
      },
      "outputs": [
        {
          "data": {
            "image/png": "[encoded data removed]",
            "text/plain": [
              "<Figure size 640x480 with 1 Axes>"
            ]
          },
          "metadata": {},
          "output_type": "display_data"
        }
      ],
      "source": [
        "#pp85\n",
        "import matplotlib.pyplot as plt\n",
        "loss = history.history[\"mae\"]\n",
        "val_loss = history.history[\"val_mae\"]\n",
        "epochs = range(1, len(loss) + 1)\n",
        "plt.figure()\n",
        "plt.plot(epochs, loss, \"bo\", label=\"Training MAE\")\n",
        "plt.plot(epochs, val_loss, \"b\", label=\"Validation MAE\")\n",
        "plt.title(\"Training and validation MAE\")\n",
        "plt.legend()\n",
        "plt.show()\n",
        "#This Python code uses Matplotlib to create a line plot that visualizes the Mean Absolute Error (MAE) during training and validation of a neural network model. It extracts the training MAE and validation MAE values from the training history obtained after model training. The loss variable represents the training MAE, and the val_loss variable represents the validation MAE. The code then plots these MAE values against the number of training epochs on the x-axis. The blue dots (\"bo\") represent the training MAE, and the solid blue line represents the validation MAE. The title of the plot is set to \"Training and validation MAE,\" and a legend is added to distinguish between the two curves. This visualization allows you to assess how well the model is performing during training and whether it's overfitting or underfitting by comparing training and validation MAE trends."
      ]
    },
    {
      "cell_type": "markdown",
      "metadata": {
        "id": "TVTmH06KSRu1"
      },
      "source": [
        "### Let's try a 1D convolutional model"
      ]
    },
    {
      "cell_type": "code",
      "execution_count": 15,
      "metadata": {
        "colab": {
          "base_uri": "https://localhost:8080/"
        },
        "id": "wr7jbHa_SRu1",
        "outputId": "1a18c33f-f7a9-4367-ee12-d78621342d08"
      },
      "outputs": [
        {
          "name": "stdout",
          "output_type": "stream",
          "text": [
            "Epoch 1/10\n",
            "819/819 [==============================] - 81s 97ms/step - loss: 20.9315 - mae: 3.5748 - val_loss: 16.8698 - val_mae: 3.2853\n",
            "Epoch 2/10\n",
            "819/819 [==============================] - 75s 91ms/step - loss: 14.8700 - mae: 3.0666 - val_loss: 14.6479 - val_mae: 3.0098\n",
            "Epoch 3/10\n",
            "819/819 [==============================] - 77s 93ms/step - loss: 13.7734 - mae: 2.9481 - val_loss: 14.1743 - val_mae: 2.9827\n",
            "Epoch 4/10\n",
            "819/819 [==============================] - 83s 101ms/step - loss: 12.9236 - mae: 2.8541 - val_loss: 14.7749 - val_mae: 3.0217\n",
            "Epoch 5/10\n",
            "819/819 [==============================] - 74s 90ms/step - loss: 12.3479 - mae: 2.7893 - val_loss: 14.7138 - val_mae: 3.0273\n",
            "Epoch 6/10\n",
            "819/819 [==============================] - 78s 95ms/step - loss: 11.9085 - mae: 2.7382 - val_loss: 14.3665 - val_mae: 2.9960\n",
            "Epoch 7/10\n",
            "819/819 [==============================] - 78s 95ms/step - loss: 11.5266 - mae: 2.6894 - val_loss: 15.9640 - val_mae: 3.1407\n",
            "Epoch 8/10\n",
            "819/819 [==============================] - 77s 93ms/step - loss: 11.2259 - mae: 2.6536 - val_loss: 13.7215 - val_mae: 2.9178\n",
            "Epoch 9/10\n",
            "819/819 [==============================] - 74s 89ms/step - loss: 10.9224 - mae: 2.6172 - val_loss: 14.5227 - val_mae: 2.9894\n",
            "Epoch 10/10\n",
            "819/819 [==============================] - 73s 89ms/step - loss: 10.6735 - mae: 2.5892 - val_loss: 14.3020 - val_mae: 2.9818\n",
            "405/405 [==============================] - 18s 44ms/step - loss: 14.6874 - mae: 3.0531\n",
            "Test MAE: 3.05\n"
          ]
        }
      ],
      "source": [
        "#pp85\n",
        "inputs = keras.Input(shape=(sequence_length, raw_data.shape[-1]))\n",
        "x = layers.Conv1D(8, 24, activation=\"relu\")(inputs)\n",
        "x = layers.MaxPooling1D(2)(x)\n",
        "x = layers.Conv1D(8, 12, activation=\"relu\")(x)\n",
        "x = layers.MaxPooling1D(2)(x)\n",
        "x = layers.Conv1D(8, 6, activation=\"relu\")(x)\n",
        "x = layers.GlobalAveragePooling1D()(x)\n",
        "outputs = layers.Dense(1)(x)\n",
        "model = keras.Model(inputs, outputs)\n",
        "\n",
        "callbacks = [\n",
        "    keras.callbacks.ModelCheckpoint(\"jena_conv.tf\",\n",
        "                                    save_best_only=True)\n",
        "]\n",
        "model.compile(optimizer=\"rmsprop\", loss=\"mse\", metrics=[\"mae\"])\n",
        "history = model.fit(train_dataset,\n",
        "                    epochs=10,\n",
        "                    validation_data=val_dataset,\n",
        "                    callbacks=callbacks)\n",
        "\n",
        "model = keras.models.load_model(\"jena_conv.tf\")\n",
        "print(f\"Test MAE: {model.evaluate(test_dataset)[1]:.2f}\")\n",
        "#This Python code defines and trains a convolutional neural network (CNN) model for a timeseries forecasting task using TensorFlow and Keras. The model architecture consists of several 1D convolutional layers with 8 filters each, followed by max-pooling layers to downsample the data. The last convolutional layer is followed by a global average pooling layer, which aggregates information across the sequence length. Finally, there is a dense output layer with a single unit for making predictions.\n",
        "\n",
        "#The code sets up callbacks to save the best model during training, compiles the model using the \"rmsprop\" optimizer and mean squared error (MSE) loss function, and uses mean absolute error (MAE) as a metric for evaluation.\n",
        "\n",
        "#The model is trained using the training dataset with 10 epochs and validated using the validation dataset. It saves the best-performing model during training.\n",
        "\n",
        "#After training, the code loads the best model, evaluates it on the test dataset, and prints the test Mean Absolute Error (MAE) as an assessment of the model's performance. This code demonstrates the use of a convolutional neural network for timeseries forecasting and the use of callbacks for model checkpointing."
      ]
    },
    {
      "cell_type": "markdown",
      "metadata": {
        "id": "Crkh6eeiSRu1"
      },
      "source": [
        "### A first recurrent baseline"
      ]
    },
    {
      "cell_type": "markdown",
      "metadata": {
        "id": "GkRmhcfGSRu1"
      },
      "source": [
        "**A simple LSTM-based model**"
      ]
    },
    {
      "cell_type": "code",
      "execution_count": 16,
      "metadata": {
        "colab": {
          "base_uri": "https://localhost:8080/"
        },
        "id": "CF4qMmUBSRu1",
        "outputId": "f0b0cad8-474e-4ebb-a9e6-577b474623f2"
      },
      "outputs": [
        {
          "name": "stdout",
          "output_type": "stream",
          "text": [
            "Epoch 1/10\n",
            "819/819 [==============================] - 126s 149ms/step - loss: 43.2527 - mae: 4.7864 - val_loss: 12.4755 - val_mae: 2.6848\n",
            "Epoch 2/10\n",
            "819/819 [==============================] - 122s 149ms/step - loss: 10.8733 - mae: 2.5582 - val_loss: 9.7738 - val_mae: 2.4362\n",
            "Epoch 3/10\n",
            "819/819 [==============================] - 124s 151ms/step - loss: 9.6879 - mae: 2.4226 - val_loss: 9.7161 - val_mae: 2.4304\n",
            "Epoch 4/10\n",
            "819/819 [==============================] - 124s 150ms/step - loss: 9.2333 - mae: 2.3641 - val_loss: 9.7623 - val_mae: 2.4439\n",
            "Epoch 5/10\n",
            "819/819 [==============================] - 108s 131ms/step - loss: 8.9930 - mae: 2.3339 - val_loss: 9.6719 - val_mae: 2.4130\n",
            "Epoch 6/10\n",
            "819/819 [==============================] - 102s 124ms/step - loss: 8.7767 - mae: 2.3069 - val_loss: 9.8363 - val_mae: 2.4286\n",
            "Epoch 7/10\n",
            "819/819 [==============================] - 98s 119ms/step - loss: 8.5736 - mae: 2.2798 - val_loss: 9.6886 - val_mae: 2.4077\n",
            "Epoch 8/10\n",
            "819/819 [==============================] - 99s 120ms/step - loss: 8.3811 - mae: 2.2543 - val_loss: 9.7355 - val_mae: 2.4107\n",
            "Epoch 9/10\n",
            "819/819 [==============================] - 97s 118ms/step - loss: 8.2331 - mae: 2.2356 - val_loss: 9.8748 - val_mae: 2.4258\n",
            "Epoch 10/10\n",
            "819/819 [==============================] - 97s 118ms/step - loss: 8.0599 - mae: 2.2127 - val_loss: 10.0430 - val_mae: 2.4472\n",
            "405/405 [==============================] - 23s 55ms/step - loss: 10.4854 - mae: 2.5248\n",
            "Test MAE: 2.52\n"
          ]
        }
      ],
      "source": [
        "#pp85\n",
        "inputs = keras.Input(shape=(sequence_length, raw_data.shape[-1]))\n",
        "x = layers.LSTM(16)(inputs)\n",
        "outputs = layers.Dense(1)(x)\n",
        "model = keras.Model(inputs, outputs)\n",
        "\n",
        "callbacks = [\n",
        "    keras.callbacks.ModelCheckpoint(\"jena_lstm.tf\",\n",
        "                                    save_best_only=True)\n",
        "]\n",
        "model.compile(optimizer=\"rmsprop\", loss=\"mse\", metrics=[\"mae\"])\n",
        "history = model.fit(train_dataset,\n",
        "                    epochs=10,\n",
        "                    validation_data=val_dataset,\n",
        "                    callbacks=callbacks)\n",
        "\n",
        "model = keras.models.load_model(\"jena_lstm.tf\")\n",
        "print(f\"Test MAE: {model.evaluate(test_dataset)[1]:.2f}\")\n",
        "#This Python code defines and trains a Long Short-Term Memory (LSTM) neural network model for a timeseries forecasting task using TensorFlow and Keras. The model architecture consists of an input layer with a shape that matches the sequence length and the number of features in the raw_data. The input data is processed by an LSTM layer with 16 units. The output layer has a single unit for making predictions.\n",
        "\n",
        "#The code sets up callbacks to save the best model during training, compiles the model using the \"rmsprop\" optimizer and mean squared error (MSE) loss function, and uses mean absolute error (MAE) as a metric for evaluation.\n",
        "\n",
        "#The model is trained using the training dataset with 10 epochs and validated using the validation dataset. It saves the best-performing model during training.\n",
        "\n",
        "#After training, the code loads the best model, evaluates it on the test dataset, and prints the test Mean Absolute Error (MAE) as an assessment of the model's performance. This code demonstrates the use of an LSTM neural network for timeseries forecasting and the use of callbacks for model checkpointing."
      ]
    },
    {
      "cell_type": "markdown",
      "metadata": {
        "id": "hym0WiXbSRu1"
      },
      "source": [
        "## Understanding recurrent neural networks"
      ]
    },
    {
      "cell_type": "markdown",
      "metadata": {
        "id": "auBhZ9CSSRu1"
      },
      "source": [
        "**NumPy implementation of a simple RNN**"
      ]
    },
    {
      "cell_type": "code",
      "execution_count": 17,
      "metadata": {
        "id": "u59T91P-SRu1"
      },
      "outputs": [],
      "source": [
        "#pp85\n",
        "import numpy as np\n",
        "timesteps = 100\n",
        "input_features = 32\n",
        "output_features = 64\n",
        "inputs = np.random.random((timesteps, input_features))\n",
        "state_t = np.zeros((output_features,))\n",
        "W = np.random.random((output_features, input_features))\n",
        "U = np.random.random((output_features, output_features))\n",
        "b = np.random.random((output_features,))\n",
        "successive_outputs = []\n",
        "for input_t in inputs:\n",
        "    output_t = np.tanh(np.dot(W, input_t) + np.dot(U, state_t) + b)\n",
        "    successive_outputs.append(output_t)\n",
        "    state_t = output_t\n",
        "final_output_sequence = np.stack(successive_outputs, axis=0)\n",
        "#This Python code generates a simple recurrent computation using random data and matrices. It sets up an example of a recurrent neural network (RNN) with specific dimensions. It creates random input data (inputs) with 100 timesteps and 32 input features. It also initializes a zero vector (state_t) as the initial state and random weight matrices (W and U) and bias vector (b) for the RNN layer.\n",
        "\n",
        "#The code then iterates through the input data, performing a recurrent computation for each timestep. It calculates the output at each timestep (output_t) using the hyperbolic tangent activation function (tanh) applied to the dot products of the input, weight matrices, and the previous state. The computed outputs are stored in the successive_outputs list, and the state is updated with the current output for the next timestep. Finally, it stacks all the computed outputs into a sequence (final_output_sequence) along the time axis. This code serves as a basic example of how RNNs process sequential data by maintaining a hidden state through time and applying matrix operations to generate sequential outputs."
      ]
    },
    {
      "cell_type": "markdown",
      "metadata": {
        "id": "oF8c6ZGZSRu8"
      },
      "source": [
        "### A recurrent layer in Keras"
      ]
    },
    {
      "cell_type": "markdown",
      "metadata": {
        "id": "jAeDdJ0sSRu9"
      },
      "source": [
        "**An RNN layer that can process sequences of any length**"
      ]
    },
    {
      "cell_type": "code",
      "execution_count": 18,
      "metadata": {
        "id": "a3KUWXBUSRu9"
      },
      "outputs": [],
      "source": [
        "#pp85\n",
        "num_features = 14\n",
        "inputs = keras.Input(shape=(None, num_features))\n",
        "outputs = layers.SimpleRNN(16)(inputs)\n",
        "#This Python code defines a simple neural network model using the Keras library. It specifies an input layer that can accept sequences of data with an arbitrary number of time steps (denoted by None) and 14 features. The model includes a Simple Recurrent Neural Network (SimpleRNN) layer with 16 units. The SimpleRNN layer processes the sequential input data and produces an output. This code is a minimal example of setting up a neural network for sequential data processing, with the potential to adapt to various time step lengths and a specific number of input features, and it can be used for tasks like time series analysis or natural language processing."
      ]
    },
    {
      "cell_type": "markdown",
      "metadata": {
        "id": "sXDe_B5RSRu9"
      },
      "source": [
        "**An RNN layer that returns only its last output step**"
      ]
    },
    {
      "cell_type": "code",
      "execution_count": 19,
      "metadata": {
        "colab": {
          "base_uri": "https://localhost:8080/"
        },
        "id": "owcp3K4ASRu9",
        "outputId": "81a744cb-4e91-46a7-c614-5a5fc001697d"
      },
      "outputs": [
        {
          "name": "stdout",
          "output_type": "stream",
          "text": [
            "(None, 16)\n"
          ]
        }
      ],
      "source": [
        "#pp85\n",
        "num_features = 14\n",
        "steps = 120\n",
        "inputs = keras.Input(shape=(steps, num_features))\n",
        "outputs = layers.SimpleRNN(16, return_sequences=False)(inputs)\n",
        "print(outputs.shape)\n",
        "#This Python code defines a neural network model using Keras. It sets up an input layer that takes data with 120 time steps and 14 features. The model includes a Simple Recurrent Neural Network (SimpleRNN) layer with 16 units. The return_sequences=False argument indicates that this SimpleRNN layer is configured to return only the output of the last time step of the sequence, not the entire sequence.\n",
        "\n",
        "#The code then prints the shape of the outputs, which will be a 2D tensor representing the output of the SimpleRNN layer for the last time step. The shape will be (None, 16), where None indicates that the batch size is not specified at this stage, and 16 represents the 16 units in the SimpleRNN layer. This code demonstrates how to set up a model for processing sequences of data and shows the shape of the output for the last time step."
      ]
    },
    {
      "cell_type": "markdown",
      "metadata": {
        "id": "KxjbG9NHSRu9"
      },
      "source": [
        "**An RNN layer that returns its full output sequence**"
      ]
    },
    {
      "cell_type": "code",
      "execution_count": 20,
      "metadata": {
        "colab": {
          "base_uri": "https://localhost:8080/"
        },
        "id": "R8BRofmRSRu9",
        "outputId": "ab5554b8-7286-46b9-9108-f0894975061c"
      },
      "outputs": [
        {
          "name": "stdout",
          "output_type": "stream",
          "text": [
            "(None, 120, 16)\n"
          ]
        }
      ],
      "source": [
        "#pp85\n",
        "num_features = 14\n",
        "steps = 120\n",
        "inputs = keras.Input(shape=(steps, num_features))\n",
        "outputs = layers.SimpleRNN(16, return_sequences=True)(inputs)\n",
        "print(outputs.shape)\n",
        "#This Python code defines a neural network model using Keras. It configures an input layer to accept data with 120 time steps and 14 features. The model incorporates a Simple Recurrent Neural Network (SimpleRNN) layer with 16 units. Importantly, it specifies return_sequences=True, indicating that the SimpleRNN layer is configured to return the entire sequence of outputs, not just the output of the last time step.\n",
        "\n",
        "#The code then prints the shape of the outputs, which will be a 3D tensor representing the output sequence of the SimpleRNN layer. The shape will be (None, 120, 16), where None indicates that the batch size is not specified at this point, 120 signifies the number of time steps, and 16 represents the 16 units in the SimpleRNN layer. This code demonstrates how to set up a model for sequence data and shows that the output includes the full sequence of 16-dimensional outputs for each time step."
      ]
    },
    {
      "cell_type": "markdown",
      "metadata": {
        "id": "TKqW38QdSRu9"
      },
      "source": [
        "**Stacking RNN layers**"
      ]
    },
    {
      "cell_type": "code",
      "execution_count": 21,
      "metadata": {
        "id": "LOIuDzy9SRu9"
      },
      "outputs": [],
      "source": [
        "#pp85\n",
        "inputs = keras.Input(shape=(steps, num_features))\n",
        "x = layers.SimpleRNN(16, return_sequences=True)(inputs)\n",
        "x = layers.SimpleRNN(16, return_sequences=True)(x)\n",
        "outputs = layers.SimpleRNN(16)(x)\n",
        "#This Python code defines a neural network model using Keras for sequential data processing. It sets up an input layer that accepts data with a shape of (steps, num_features), indicating sequences with 120 time steps and 14 features. The model includes three Simple Recurrent Neural Network (SimpleRNN) layers. The first two SimpleRNN layers have 16 units each and are configured to return the entire sequence of outputs (return_sequences=True). This means that both layers will produce sequences of 16-dimensional outputs for each time step. The output of the second SimpleRNN layer serves as input to the third SimpleRNN layer, which does not return sequences, producing a single 16-dimensional output. This architecture allows the model to capture complex patterns in sequential data by stacking multiple SimpleRNN layers, each processing the sequential information and learning hierarchical representations."
      ]
    },
    {
      "cell_type": "markdown",
      "metadata": {
        "id": "j30A_4X_SRu9"
      },
      "source": [
        "## Advanced use of recurrent neural networks"
      ]
    },
    {
      "cell_type": "markdown",
      "metadata": {
        "id": "-zLK4n4HSRu9"
      },
      "source": [
        "### Using recurrent dropout to fight overfitting"
      ]
    },
    {
      "cell_type": "markdown",
      "metadata": {
        "id": "vLYiqQRWSRu9"
      },
      "source": [
        "**Training and evaluating a dropout-regularized LSTM**"
      ]
    },
    {
      "cell_type": "code",
      "execution_count": 24,
      "metadata": {
        "colab": {
          "base_uri": "https://localhost:8080/"
        },
        "id": "tYkMbEDLSRu9",
        "outputId": "67ca6eca-93b0-4aa6-9eec-0669a8989729"
      },
      "outputs": [
        {
          "name": "stdout",
          "output_type": "stream",
          "text": [
            "Epoch 1/30\n",
            "819/819 [==============================] - 220s 265ms/step - loss: 26.2410 - mae: 3.8056 - val_loss: 9.7801 - val_mae: 2.4327\n",
            "Epoch 2/30\n",
            "819/819 [==============================] - 215s 263ms/step - loss: 14.8362 - mae: 2.9867 - val_loss: 9.8440 - val_mae: 2.4338\n",
            "Epoch 3/30\n",
            "819/819 [==============================] - 197s 241ms/step - loss: 13.8653 - mae: 2.8893 - val_loss: 9.5101 - val_mae: 2.3851\n",
            "Epoch 4/30\n",
            "819/819 [==============================] - 213s 260ms/step - loss: 13.1916 - mae: 2.8167 - val_loss: 9.1598 - val_mae: 2.3571\n",
            "Epoch 5/30\n",
            "819/819 [==============================] - 202s 247ms/step - loss: 12.7778 - mae: 2.7708 - val_loss: 9.5840 - val_mae: 2.4147\n",
            "Epoch 6/30\n",
            "819/819 [==============================] - 246s 300ms/step - loss: 12.3878 - mae: 2.7278 - val_loss: 9.3057 - val_mae: 2.3712\n",
            "Epoch 7/30\n",
            "819/819 [==============================] - 196s 238ms/step - loss: 12.0695 - mae: 2.6937 - val_loss: 9.2888 - val_mae: 2.3785\n",
            "Epoch 8/30\n",
            "819/819 [==============================] - 211s 257ms/step - loss: 11.7888 - mae: 2.6639 - val_loss: 9.4246 - val_mae: 2.3906\n",
            "Epoch 9/30\n",
            "819/819 [==============================] - 195s 238ms/step - loss: 11.5865 - mae: 2.6418 - val_loss: 9.8048 - val_mae: 2.4407\n",
            "Epoch 10/30\n",
            "819/819 [==============================] - 196s 239ms/step - loss: 11.4040 - mae: 2.6194 - val_loss: 9.8348 - val_mae: 2.4378\n",
            "Epoch 11/30\n",
            "819/819 [==============================] - 209s 254ms/step - loss: 11.1412 - mae: 2.5913 - val_loss: 9.7450 - val_mae: 2.4313\n",
            "Epoch 12/30\n",
            "819/819 [==============================] - 213s 259ms/step - loss: 10.9947 - mae: 2.5729 - val_loss: 9.5154 - val_mae: 2.4042\n",
            "Epoch 13/30\n",
            "819/819 [==============================] - 204s 248ms/step - loss: 10.7820 - mae: 2.5515 - val_loss: 9.7203 - val_mae: 2.4421\n",
            "Epoch 14/30\n",
            "819/819 [==============================] - 216s 264ms/step - loss: 10.6583 - mae: 2.5350 - val_loss: 9.7875 - val_mae: 2.4469\n",
            "Epoch 15/30\n",
            "819/819 [==============================] - 214s 260ms/step - loss: 10.5389 - mae: 2.5251 - val_loss: 9.8693 - val_mae: 2.4529\n",
            "Epoch 16/30\n",
            "819/819 [==============================] - 201s 245ms/step - loss: 10.3602 - mae: 2.5023 - val_loss: 10.2186 - val_mae: 2.4887\n",
            "Epoch 17/30\n",
            "819/819 [==============================] - 196s 239ms/step - loss: 10.2747 - mae: 2.4892 - val_loss: 9.8795 - val_mae: 2.4536\n",
            "Epoch 18/30\n",
            "819/819 [==============================] - 212s 258ms/step - loss: 10.2139 - mae: 2.4805 - val_loss: 10.3455 - val_mae: 2.5129\n",
            "Epoch 19/30\n",
            "819/819 [==============================] - 214s 261ms/step - loss: 10.1378 - mae: 2.4733 - val_loss: 10.4137 - val_mae: 2.5239\n",
            "Epoch 20/30\n",
            "819/819 [==============================] - 198s 242ms/step - loss: 9.9898 - mae: 2.4557 - val_loss: 10.2684 - val_mae: 2.5009\n",
            "Epoch 21/30\n",
            "819/819 [==============================] - 199s 243ms/step - loss: 9.9679 - mae: 2.4526 - val_loss: 10.6568 - val_mae: 2.5380\n",
            "Epoch 22/30\n",
            "819/819 [==============================] - 199s 243ms/step - loss: 9.8373 - mae: 2.4354 - val_loss: 10.0791 - val_mae: 2.4771\n",
            "Epoch 23/30\n",
            "819/819 [==============================] - 212s 259ms/step - loss: 9.7756 - mae: 2.4265 - val_loss: 10.7769 - val_mae: 2.5579\n",
            "Epoch 24/30\n",
            "819/819 [==============================] - 220s 269ms/step - loss: 9.6767 - mae: 2.4126 - val_loss: 10.3299 - val_mae: 2.5028\n",
            "Epoch 25/30\n",
            "819/819 [==============================] - 207s 252ms/step - loss: 9.6094 - mae: 2.4056 - val_loss: 10.4730 - val_mae: 2.5235\n",
            "Epoch 26/30\n",
            "819/819 [==============================] - 204s 249ms/step - loss: 9.5814 - mae: 2.4019 - val_loss: 10.8485 - val_mae: 2.5649\n",
            "Epoch 27/30\n",
            "819/819 [==============================] - 198s 241ms/step - loss: 9.4951 - mae: 2.3879 - val_loss: 10.5483 - val_mae: 2.5404\n",
            "Epoch 28/30\n",
            "819/819 [==============================] - 196s 239ms/step - loss: 9.4674 - mae: 2.3835 - val_loss: 10.1378 - val_mae: 2.4829\n",
            "Epoch 29/30\n",
            "819/819 [==============================] - 195s 238ms/step - loss: 9.4163 - mae: 2.3781 - val_loss: 10.6122 - val_mae: 2.5328\n",
            "Epoch 30/30\n",
            "819/819 [==============================] - 202s 247ms/step - loss: 9.3898 - mae: 2.3722 - val_loss: 10.5716 - val_mae: 2.5377\n"
          ]
        }
      ],
      "source": [
        "#pp85\n",
        "#changed 50 epochs to 30\n",
        "inputs = keras.Input(shape=(sequence_length, raw_data.shape[-1]))\n",
        "x = layers.LSTM(32, recurrent_dropout=0.25)(inputs)\n",
        "x = layers.Dropout(0.5)(x)\n",
        "outputs = layers.Dense(1)(x)\n",
        "model = keras.Model(inputs, outputs)\n",
        "\n",
        "callbacks = [\n",
        "    keras.callbacks.ModelCheckpoint(\"jena_lstm_dropout.tf\",\n",
        "                                    save_best_only=True)\n",
        "]\n",
        "model.compile(optimizer=\"rmsprop\", loss=\"mse\", metrics=[\"mae\"])\n",
        "history = model.fit(train_dataset,\n",
        "                    epochs=30,\n",
        "                    validation_data=val_dataset,\n",
        "                    callbacks=callbacks)\n",
        "#This Python code defines and trains a Long Short-Term Memory (LSTM) neural network model for a timeseries forecasting task using TensorFlow and Keras. The model architecture consists of an input layer with a shape matching the sequence length and the number of features in the raw_data. It includes an LSTM layer with 32 units and a recurrent dropout rate of 0.25 to regularize the recurrent connections. A dropout layer with a dropout rate of 0.5 is added after the LSTM layer for general regularization. The model is completed with a dense output layer that predicts a single value.\n",
        "\n",
        "#The code sets up callbacks to save the best model during training and compiles the model using the \"rmsprop\" optimizer and mean squared error (MSE) loss function. It also tracks mean absolute error (MAE) as a metric for evaluation.\n",
        "\n",
        "#The model is trained using the training dataset for 30 epochs, and validation is performed using the validation dataset. The code saves the best-performing model during training, making use of the model checkpointing callback. This code demonstrates the use of an LSTM-based neural network with dropout for timeseries forecasting and illustrates the training process with monitoring of MAE."
      ]
    },
    {
      "cell_type": "code",
      "execution_count": 25,
      "metadata": {
        "id": "m7uFMXpfSRu-"
      },
      "outputs": [],
      "source": [
        "#pp85\n",
        "inputs = keras.Input(shape=(sequence_length, num_features))\n",
        "x = layers.LSTM(32, recurrent_dropout=0.2, unroll=True)(inputs)\n",
        "#This Python code defines an input layer for a neural network model using Keras, configured to handle sequential data with a specific shape: sequence_length representing the length of the sequence and num_features representing the number of features at each time step. The model includes an LSTM (Long Short-Term Memory) layer with 32 units. Additionally, it specifies two key settings: \"recurrent_dropout=0.2\" to apply dropout to recurrent connections within the LSTM, reducing overfitting, and \"unroll=True\" to unroll the LSTM computations into separate time steps, potentially improving training speed for shorter sequences. This code outlines the neural network architecture for sequential data processing, emphasizing LSTM with specific configurations for better model training and efficiency."
      ]
    },
    {
      "cell_type": "markdown",
      "metadata": {
        "id": "9UTCyjsESRu-"
      },
      "source": [
        "### Stacking recurrent layers"
      ]
    },
    {
      "cell_type": "markdown",
      "metadata": {
        "id": "3Ajnp0SSSRu-"
      },
      "source": [
        "**Training and evaluating a dropout-regularized, stacked GRU model**"
      ]
    },
    {
      "cell_type": "code",
      "execution_count": 29,
      "metadata": {
        "colab": {
          "base_uri": "https://localhost:8080/"
        },
        "id": "gKrXaMU-SRu-",
        "outputId": "77535d25-b4ec-40df-d312-821bb94b7744"
      },
      "outputs": [
        {
          "name": "stdout",
          "output_type": "stream",
          "text": [
            "Epoch 1/10\n",
            "819/819 [==============================] - 344s 413ms/step - loss: 23.9462 - mae: 3.6363 - val_loss: 9.3844 - val_mae: 2.3790\n",
            "Epoch 2/10\n",
            "819/819 [==============================] - 338s 413ms/step - loss: 14.0368 - mae: 2.9033 - val_loss: 9.2520 - val_mae: 2.3561\n",
            "Epoch 3/10\n",
            "819/819 [==============================] - 351s 428ms/step - loss: 13.2226 - mae: 2.8230 - val_loss: 8.9023 - val_mae: 2.2996\n",
            "Epoch 4/10\n",
            "819/819 [==============================] - 339s 414ms/step - loss: 12.6953 - mae: 2.7658 - val_loss: 8.9899 - val_mae: 2.3342\n",
            "Epoch 5/10\n",
            "819/819 [==============================] - 345s 421ms/step - loss: 12.2629 - mae: 2.7162 - val_loss: 8.8914 - val_mae: 2.2992\n",
            "Epoch 6/10\n",
            "819/819 [==============================] - 335s 408ms/step - loss: 11.8645 - mae: 2.6716 - val_loss: 9.4378 - val_mae: 2.3683\n",
            "Epoch 7/10\n",
            "819/819 [==============================] - 343s 418ms/step - loss: 11.5085 - mae: 2.6329 - val_loss: 8.9318 - val_mae: 2.3277\n",
            "Epoch 8/10\n",
            "819/819 [==============================] - 335s 409ms/step - loss: 11.2308 - mae: 2.6043 - val_loss: 9.0679 - val_mae: 2.3383\n",
            "Epoch 9/10\n",
            "819/819 [==============================] - 335s 408ms/step - loss: 10.9583 - mae: 2.5710 - val_loss: 9.1718 - val_mae: 2.3453\n",
            "Epoch 10/10\n",
            "819/819 [==============================] - 333s 407ms/step - loss: 10.6892 - mae: 2.5413 - val_loss: 9.1455 - val_mae: 2.3328\n",
            "405/405 [==============================] - 41s 100ms/step - loss: 9.6537 - mae: 2.4305\n",
            "Test MAE: 2.43\n"
          ]
        }
      ],
      "source": [
        "#pp85\n",
        "#changed 50 epochs to 10\n",
        "inputs = keras.Input(shape=(sequence_length, raw_data.shape[-1]))\n",
        "x = layers.GRU(32, recurrent_dropout=0.5, return_sequences=True)(inputs)\n",
        "x = layers.GRU(32, recurrent_dropout=0.5)(x)\n",
        "x = layers.Dropout(0.5)(x)\n",
        "outputs = layers.Dense(1)(x)\n",
        "model = keras.Model(inputs, outputs)\n",
        "\n",
        "callbacks = [\n",
        "    keras.callbacks.ModelCheckpoint(\"jena_stacked_gru_dropout.tf\",\n",
        "                                    save_best_only=True)\n",
        "]\n",
        "model.compile(optimizer=\"rmsprop\", loss=\"mse\", metrics=[\"mae\"])\n",
        "history = model.fit(train_dataset,\n",
        "                    epochs=10,\n",
        "                    validation_data=val_dataset,\n",
        "                    callbacks=callbacks)\n",
        "model = keras.models.load_model(\"jena_stacked_gru_dropout.tf\")\n",
        "print(f\"Test MAE: {model.evaluate(test_dataset)[1]:.2f}\")\n",
        "#This Python code defines and trains a neural network model for timeseries forecasting using Keras and TensorFlow. The model architecture consists of two stacked GRU (Gated Recurrent Unit) layers, each with 32 units. These GRU layers include recurrent dropout with a rate of 0.5 to regularize the recurrent connections. A dropout layer with a dropout rate of 0.5 follows the second GRU layer for general regularization. The model is completed with a dense output layer that predicts a single value.\n",
        "\n",
        "#The code sets up callbacks to save the best model during training and compiles the model using the \"rmsprop\" optimizer and mean squared error (MSE) loss function. It also tracks mean absolute error (MAE) as a metric for evaluation.\n",
        "\n",
        "#The model is trained using the training dataset for 10 epochs, and validation is performed using the validation dataset. After training, the code loads the best-performing model and evaluates it on the test dataset, reporting the test MAE. This code demonstrates the use of stacked GRU layers with dropout for timeseries forecasting and illustrates the training process with model checkpointing and evaluation on a test dataset."
      ]
    },
    {
      "cell_type": "markdown",
      "metadata": {
        "id": "7E5VzrEgSRu-"
      },
      "source": [
        "### Using bidirectional RNNs"
      ]
    },
    {
      "cell_type": "markdown",
      "metadata": {
        "id": "Zj6ZDyp_SRu-"
      },
      "source": [
        "**Training and evaluating a bidirectional LSTM**"
      ]
    },
    {
      "cell_type": "code",
      "execution_count": 30,
      "metadata": {
        "colab": {
          "base_uri": "https://localhost:8080/"
        },
        "id": "3wJdYgImSRu-",
        "outputId": "284a31f0-3d45-4176-8f38-1affdf8f703c"
      },
      "outputs": [
        {
          "name": "stdout",
          "output_type": "stream",
          "text": [
            "Epoch 1/10\n",
            "819/819 [==============================] - 148s 176ms/step - loss: 27.1537 - mae: 3.7517 - val_loss: 10.3082 - val_mae: 2.4885\n",
            "Epoch 2/10\n",
            "819/819 [==============================] - 146s 179ms/step - loss: 9.3816 - mae: 2.3881 - val_loss: 9.7199 - val_mae: 2.4212\n",
            "Epoch 3/10\n",
            "819/819 [==============================] - 158s 193ms/step - loss: 8.3156 - mae: 2.2441 - val_loss: 9.7067 - val_mae: 2.4263\n",
            "Epoch 4/10\n",
            "819/819 [==============================] - 144s 175ms/step - loss: 7.6981 - mae: 2.1594 - val_loss: 10.1079 - val_mae: 2.4653\n",
            "Epoch 5/10\n",
            "819/819 [==============================] - 156s 191ms/step - loss: 7.2501 - mae: 2.0961 - val_loss: 10.6277 - val_mae: 2.5142\n",
            "Epoch 6/10\n",
            "819/819 [==============================] - 145s 177ms/step - loss: 6.8494 - mae: 2.0388 - val_loss: 10.9884 - val_mae: 2.5578\n",
            "Epoch 7/10\n",
            "819/819 [==============================] - 145s 177ms/step - loss: 6.5720 - mae: 2.0000 - val_loss: 11.4503 - val_mae: 2.6248\n",
            "Epoch 8/10\n",
            "819/819 [==============================] - 143s 174ms/step - loss: 6.3338 - mae: 1.9645 - val_loss: 11.4252 - val_mae: 2.6231\n",
            "Epoch 9/10\n",
            "819/819 [==============================] - 156s 190ms/step - loss: 6.1713 - mae: 1.9403 - val_loss: 11.4820 - val_mae: 2.6393\n",
            "Epoch 10/10\n",
            "819/819 [==============================] - 145s 177ms/step - loss: 5.9687 - mae: 1.9084 - val_loss: 12.0476 - val_mae: 2.6994\n"
          ]
        }
      ],
      "source": [
        "#pp85\n",
        "inputs = keras.Input(shape=(sequence_length, raw_data.shape[-1]))\n",
        "x = layers.Bidirectional(layers.LSTM(16))(inputs)\n",
        "outputs = layers.Dense(1)(x)\n",
        "model = keras.Model(inputs, outputs)\n",
        "\n",
        "model.compile(optimizer=\"rmsprop\", loss=\"mse\", metrics=[\"mae\"])\n",
        "history = model.fit(train_dataset,\n",
        "                    epochs=10,\n",
        "                    validation_data=val_dataset)\n",
        "#This Python code defines and trains a neural network model for timeseries forecasting using Keras and TensorFlow. The model architecture includes a Bidirectional Long Short-Term Memory (LSTM) layer with 16 units. The Bidirectional layer allows the LSTM to process the input sequence in both forward and backward directions, capturing complex patterns in the data. The model is completed with a dense output layer that predicts a single value.\n",
        "\n",
        "#The code compiles the model using the \"rmsprop\" optimizer and mean squared error (MSE) loss function, as well as mean absolute error (MAE) as a metric for evaluation. The model is trained using the training dataset for 10 epochs, and validation is performed using the validation dataset. This code demonstrates the use of a Bidirectional LSTM layer for timeseries forecasting, which can improve the model's ability to capture temporal dependencies in both directions within the sequence."
      ]
    },
    {
      "cell_type": "markdown",
      "metadata": {
        "id": "YF5I-IyTSRu-"
      },
      "source": [
        "## Summary\n",
        "In the provided Python code snippets, a series of neural network models for timeseries forecasting are defined and trained using Keras and TensorFlow. These models are designed to learn from sequential data and make predictions. The code covers a range of recurrent architectures, including SimpleRNN, LSTM, GRU, and Bidirectional LSTM, demonstrating different configurations such as dropout, unrolling, and bidirectional processing. The models are trained with appropriate optimization algorithms, loss functions, and evaluation metrics. Additionally, callbacks are utilized to save the best models during training.\n",
        "\n",
        "The code snippets illustrate how to create and train these models, emphasizing various aspects like regularization, recurrent dropout, stacked layers, and bidirectional processing to improve the models' performance in forecasting tasks. The evaluation of these models is carried out using validation and test datasets, and metrics such as Mean Absolute Error (MAE) are used to assess their performance. These code examples serve as valuable building blocks for developing timeseries forecasting models with deep learning techniques, allowing practitioners to adapt and extend them for specific forecasting tasks.\n"
      ]
    }
  ],
  "metadata": {
    "colab": {
      "provenance": []
    },
    "kernelspec": {
      "display_name": "Python 3 (ipykernel)",
      "language": "python",
      "name": "python3"
    },
    "language_info": {
      "codemirror_mode": {
        "name": "ipython",
        "version": 3
      },
      "file_extension": ".py",
      "mimetype": "text/x-python",
      "name": "python",
      "nbconvert_exporter": "python",
      "pygments_lexer": "ipython3",
      "version": "3.9.13"
    }
  },
  "nbformat": 4,
  "nbformat_minor": 0
}
